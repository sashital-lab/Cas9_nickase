{
 "cells": [
  {
   "cell_type": "code",
   "execution_count": 2,
   "metadata": {},
   "outputs": [],
   "source": [
    "import pandas as pd\n",
    "import numpy as np\n",
    "import seaborn as sns\n",
    "import matplotlib.pyplot as plt\n",
    "import scipy.stats"
   ]
  },
  {
   "cell_type": "markdown",
   "metadata": {},
   "source": [
    "Load some required packages, and read the datafiles (convertd from excel to CSV format)."
   ]
  },
  {
   "cell_type": "code",
   "execution_count": 3,
   "metadata": {},
   "outputs": [],
   "source": [
    "hypa = \"hypaCas9.csv\"\n",
    "dfh = pd.read_csv(hypa)\n",
    "sa = \"SaCas9.csv\"\n",
    "dfs = pd.read_csv(sa)"
   ]
  },
  {
   "cell_type": "code",
   "execution_count": 4,
   "metadata": {},
   "outputs": [
    {
     "data": {
      "text/html": [
       "<div>\n",
       "<style scoped>\n",
       "    .dataframe tbody tr th:only-of-type {\n",
       "        vertical-align: middle;\n",
       "    }\n",
       "\n",
       "    .dataframe tbody tr th {\n",
       "        vertical-align: top;\n",
       "    }\n",
       "\n",
       "    .dataframe thead th {\n",
       "        text-align: right;\n",
       "    }\n",
       "</style>\n",
       "<table border=\"1\" class=\"dataframe\">\n",
       "  <thead>\n",
       "    <tr style=\"text-align: right;\">\n",
       "      <th></th>\n",
       "      <th>MM</th>\n",
       "      <th>Type</th>\n",
       "      <th>K1</th>\n",
       "      <th>K2</th>\n",
       "    </tr>\n",
       "  </thead>\n",
       "  <tbody>\n",
       "    <tr>\n",
       "      <th>0</th>\n",
       "      <td>1 MM</td>\n",
       "      <td>20A</td>\n",
       "      <td>0.2422</td>\n",
       "      <td>0.3012</td>\n",
       "    </tr>\n",
       "    <tr>\n",
       "      <th>1</th>\n",
       "      <td>1 MM</td>\n",
       "      <td>20G</td>\n",
       "      <td>0.2630</td>\n",
       "      <td>0.2444</td>\n",
       "    </tr>\n",
       "    <tr>\n",
       "      <th>2</th>\n",
       "      <td>1 MM</td>\n",
       "      <td>20C</td>\n",
       "      <td>0.4533</td>\n",
       "      <td>0.4082</td>\n",
       "    </tr>\n",
       "    <tr>\n",
       "      <th>3</th>\n",
       "      <td>1 MM</td>\n",
       "      <td>20T</td>\n",
       "      <td>1.8900</td>\n",
       "      <td>1.8370</td>\n",
       "    </tr>\n",
       "    <tr>\n",
       "      <th>4</th>\n",
       "      <td>1 MM</td>\n",
       "      <td>19A</td>\n",
       "      <td>0.7560</td>\n",
       "      <td>0.9296</td>\n",
       "    </tr>\n",
       "    <tr>\n",
       "      <th>5</th>\n",
       "      <td>1 MM</td>\n",
       "      <td>19G</td>\n",
       "      <td>0.7446</td>\n",
       "      <td>0.7134</td>\n",
       "    </tr>\n",
       "    <tr>\n",
       "      <th>6</th>\n",
       "      <td>1 MM</td>\n",
       "      <td>19C</td>\n",
       "      <td>0.4377</td>\n",
       "      <td>0.3896</td>\n",
       "    </tr>\n",
       "    <tr>\n",
       "      <th>7</th>\n",
       "      <td>1 MM</td>\n",
       "      <td>19T</td>\n",
       "      <td>0.4338</td>\n",
       "      <td>0.4269</td>\n",
       "    </tr>\n",
       "    <tr>\n",
       "      <th>8</th>\n",
       "      <td>1 MM</td>\n",
       "      <td>18A</td>\n",
       "      <td>0.8515</td>\n",
       "      <td>0.6161</td>\n",
       "    </tr>\n",
       "    <tr>\n",
       "      <th>9</th>\n",
       "      <td>1 MM</td>\n",
       "      <td>18G</td>\n",
       "      <td>0.2883</td>\n",
       "      <td>0.1599</td>\n",
       "    </tr>\n",
       "  </tbody>\n",
       "</table>\n",
       "</div>"
      ],
      "text/plain": [
       "     MM Type      K1      K2\n",
       "0  1 MM  20A  0.2422  0.3012\n",
       "1  1 MM  20G  0.2630  0.2444\n",
       "2  1 MM  20C  0.4533  0.4082\n",
       "3  1 MM  20T  1.8900  1.8370\n",
       "4  1 MM  19A  0.7560  0.9296\n",
       "5  1 MM  19G  0.7446  0.7134\n",
       "6  1 MM  19C  0.4377  0.3896\n",
       "7  1 MM  19T  0.4338  0.4269\n",
       "8  1 MM  18A  0.8515  0.6161\n",
       "9  1 MM  18G  0.2883  0.1599"
      ]
     },
     "execution_count": 4,
     "metadata": {},
     "output_type": "execute_result"
    }
   ],
   "source": [
    "dfh.head(10)"
   ]
  },
  {
   "cell_type": "code",
   "execution_count": 5,
   "metadata": {},
   "outputs": [
    {
     "data": {
      "text/html": [
       "<div>\n",
       "<style scoped>\n",
       "    .dataframe tbody tr th:only-of-type {\n",
       "        vertical-align: middle;\n",
       "    }\n",
       "\n",
       "    .dataframe tbody tr th {\n",
       "        vertical-align: top;\n",
       "    }\n",
       "\n",
       "    .dataframe thead th {\n",
       "        text-align: right;\n",
       "    }\n",
       "</style>\n",
       "<table border=\"1\" class=\"dataframe\">\n",
       "  <thead>\n",
       "    <tr style=\"text-align: right;\">\n",
       "      <th></th>\n",
       "      <th>MM</th>\n",
       "      <th>Type</th>\n",
       "      <th>K1</th>\n",
       "      <th>K2</th>\n",
       "    </tr>\n",
       "  </thead>\n",
       "  <tbody>\n",
       "    <tr>\n",
       "      <th>0</th>\n",
       "      <td>1 MM</td>\n",
       "      <td>20A</td>\n",
       "      <td>0.7751</td>\n",
       "      <td>0.9633</td>\n",
       "    </tr>\n",
       "    <tr>\n",
       "      <th>1</th>\n",
       "      <td>1 MM</td>\n",
       "      <td>20G</td>\n",
       "      <td>0.7208</td>\n",
       "      <td>0.7441</td>\n",
       "    </tr>\n",
       "    <tr>\n",
       "      <th>2</th>\n",
       "      <td>1 MM</td>\n",
       "      <td>20C</td>\n",
       "      <td>0.9748</td>\n",
       "      <td>0.7674</td>\n",
       "    </tr>\n",
       "    <tr>\n",
       "      <th>3</th>\n",
       "      <td>1 MM</td>\n",
       "      <td>20T</td>\n",
       "      <td>0.9919</td>\n",
       "      <td>0.9028</td>\n",
       "    </tr>\n",
       "    <tr>\n",
       "      <th>4</th>\n",
       "      <td>1 MM</td>\n",
       "      <td>19A</td>\n",
       "      <td>1.4960</td>\n",
       "      <td>2.0400</td>\n",
       "    </tr>\n",
       "    <tr>\n",
       "      <th>5</th>\n",
       "      <td>1 MM</td>\n",
       "      <td>19G</td>\n",
       "      <td>2.7750</td>\n",
       "      <td>1.4010</td>\n",
       "    </tr>\n",
       "    <tr>\n",
       "      <th>6</th>\n",
       "      <td>1 MM</td>\n",
       "      <td>19C</td>\n",
       "      <td>0.9207</td>\n",
       "      <td>0.7247</td>\n",
       "    </tr>\n",
       "    <tr>\n",
       "      <th>7</th>\n",
       "      <td>1 MM</td>\n",
       "      <td>19T</td>\n",
       "      <td>1.5410</td>\n",
       "      <td>0.5849</td>\n",
       "    </tr>\n",
       "    <tr>\n",
       "      <th>8</th>\n",
       "      <td>1 MM</td>\n",
       "      <td>18A</td>\n",
       "      <td>1.4060</td>\n",
       "      <td>1.5410</td>\n",
       "    </tr>\n",
       "    <tr>\n",
       "      <th>9</th>\n",
       "      <td>1 MM</td>\n",
       "      <td>18G</td>\n",
       "      <td>1.7140</td>\n",
       "      <td>1.4340</td>\n",
       "    </tr>\n",
       "  </tbody>\n",
       "</table>\n",
       "</div>"
      ],
      "text/plain": [
       "     MM Type      K1      K2\n",
       "0  1 MM  20A  0.7751  0.9633\n",
       "1  1 MM  20G  0.7208  0.7441\n",
       "2  1 MM  20C  0.9748  0.7674\n",
       "3  1 MM  20T  0.9919  0.9028\n",
       "4  1 MM  19A  1.4960  2.0400\n",
       "5  1 MM  19G  2.7750  1.4010\n",
       "6  1 MM  19C  0.9207  0.7247\n",
       "7  1 MM  19T  1.5410  0.5849\n",
       "8  1 MM  18A  1.4060  1.5410\n",
       "9  1 MM  18G  1.7140  1.4340"
      ]
     },
     "execution_count": 5,
     "metadata": {},
     "output_type": "execute_result"
    }
   ],
   "source": [
    "dfs.head(10)"
   ]
  },
  {
   "cell_type": "code",
   "execution_count": 6,
   "metadata": {},
   "outputs": [
    {
     "name": "stdout",
     "output_type": "stream",
     "text": [
      "               K1          K2\n",
      "count  959.000000  959.000000\n",
      "mean     0.284407    0.252972\n",
      "std      0.498053    0.467777\n",
      "min      0.000000    0.000000\n",
      "25%      0.000369    0.000322\n",
      "50%      0.012080    0.008014\n",
      "75%      0.297650    0.266750\n",
      "max      2.997000    2.496000\n"
     ]
    }
   ],
   "source": [
    "print(dfh.describe())"
   ]
  },
  {
   "cell_type": "code",
   "execution_count": 7,
   "metadata": {},
   "outputs": [
    {
     "name": "stdout",
     "output_type": "stream",
     "text": [
      "               K1          K2\n",
      "count  959.000000  959.000000\n",
      "mean     0.188766    0.211184\n",
      "std      0.402208    0.346368\n",
      "min      0.000000    0.000000\n",
      "25%      0.000320    0.001890\n",
      "50%      0.008940    0.050610\n",
      "75%      0.204550    0.266450\n",
      "max      5.106000    2.658000\n"
     ]
    }
   ],
   "source": [
    "print(dfs.describe())"
   ]
  },
  {
   "cell_type": "code",
   "execution_count": 25,
   "metadata": {},
   "outputs": [
    {
     "data": {
      "image/png": "[encoded data removed]",
      "text/plain": [
       "<Figure size 432x288 with 1 Axes>"
      ]
     },
     "metadata": {
      "needs_background": "light"
     },
     "output_type": "display_data"
    }
   ],
   "source": [
    "sns.boxplot(x=\"MM\", y=\"K1\", data = dfs)\n",
    "plt.title('Sa Cas9 - K1')\n",
    "plt.ylim(0 , 3.5)\n",
    "plt.savefig('boxplot_SaCas9-K1.png')\n",
    "plt.show()"
   ]
  },
  {
   "cell_type": "code",
   "execution_count": 24,
   "metadata": {},
   "outputs": [
    {
     "data": {
      "image/png": "[encoded data removed]",
      "text/plain": [
       "<Figure size 432x288 with 1 Axes>"
      ]
     },
     "metadata": {
      "needs_background": "light"
     },
     "output_type": "display_data"
    }
   ],
   "source": [
    "sns.boxplot(x=\"MM\", y=\"K2\", data = dfs)\n",
    "plt.title('Sa Cas9 - K2')\n",
    "plt.ylim(0 , 3.5)\n",
    "plt.savefig('boxplot_SaCas9-K2.png')\n",
    "plt.show()"
   ]
  },
  {
   "cell_type": "code",
   "execution_count": 23,
   "metadata": {},
   "outputs": [
    {
     "data": {
      "image/png": "[encoded data removed]",
      "text/plain": [
       "<Figure size 432x288 with 1 Axes>"
      ]
     },
     "metadata": {
      "needs_background": "light"
     },
     "output_type": "display_data"
    }
   ],
   "source": [
    "sns.boxplot(x=\"MM\", y=\"K1\", data = dfh)\n",
    "plt.title('hypa Cas9 -K1')\n",
    "plt.ylim(0 , 3.5)\n",
    "plt.savefig('boxplot_hypaCas9-K1.png')\n",
    "plt.show()"
   ]
  },
  {
   "cell_type": "code",
   "execution_count": 22,
   "metadata": {},
   "outputs": [
    {
     "data": {
      "image/png": "[encoded data removed]",
      "text/plain": [
       "<Figure size 432x288 with 1 Axes>"
      ]
     },
     "metadata": {
      "needs_background": "light"
     },
     "output_type": "display_data"
    }
   ],
   "source": [
    "sns.boxplot(x=\"MM\", y=\"K2\", data = dfh)\n",
    "plt.title('hypa Cas9 - K2')\n",
    "plt.ylim(0 , 3.5)\n",
    "plt.savefig('boxplot_hypaCas9-K1.png')\n",
    "plt.show()"
   ]
  },
  {
   "cell_type": "markdown",
   "metadata": {},
   "source": [
    "There are clearly outliers in both K1 and K2 of Sa and Hypa dataset. With >1 mismatch specifically many datapoints were outliers (outside the interquartile range)."
   ]
  },
  {
   "cell_type": "markdown",
   "metadata": {},
   "source": [
    "## Corelation plots for Sa Cas9 dataset"
   ]
  },
  {
   "cell_type": "code",
   "execution_count": 12,
   "metadata": {},
   "outputs": [],
   "source": [
    "x = dfs['K1']\n",
    "y = dfs['K2']"
   ]
  },
  {
   "cell_type": "code",
   "execution_count": 13,
   "metadata": {},
   "outputs": [
    {
     "name": "stdout",
     "output_type": "stream",
     "text": [
      "(0.8115720948985786, 1.3753463085015473e-225)\n"
     ]
    }
   ],
   "source": [
    "print(scipy.stats.pearsonr(x, y))"
   ]
  },
  {
   "cell_type": "code",
   "execution_count": 14,
   "metadata": {},
   "outputs": [
    {
     "name": "stdout",
     "output_type": "stream",
     "text": [
      "SpearmanrResult(correlation=0.8852126905222857, pvalue=2.417e-320)\n"
     ]
    }
   ],
   "source": [
    "print(scipy.stats.spearmanr(x, y))"
   ]
  },
  {
   "cell_type": "code",
   "execution_count": 15,
   "metadata": {},
   "outputs": [
    {
     "name": "stdout",
     "output_type": "stream",
     "text": [
      "KendalltauResult(correlation=0.7240411866310411, pvalue=3.4316728941721886e-237)\n"
     ]
    }
   ],
   "source": [
    "print(scipy.stats.kendalltau(x, y))"
   ]
  },
  {
   "cell_type": "code",
   "execution_count": 16,
   "metadata": {},
   "outputs": [
    {
     "name": "stdout",
     "output_type": "stream",
     "text": [
      "LinregressResult(slope=0.6988978887877033, intercept=0.07925625252352048, rvalue=0.8115720948985781, pvalue=1.3753463085028934e-225, stderr=0.01626413890876595)\n"
     ]
    }
   ],
   "source": [
    "print(scipy.stats.linregress(x, y))"
   ]
  },
  {
   "cell_type": "code",
   "execution_count": 17,
   "metadata": {},
   "outputs": [
    {
     "data": {
      "image/png": "[encoded data removed]",
      "text/plain": [
       "<Figure size 432x288 with 1 Axes>"
      ]
     },
     "metadata": {
      "needs_background": "light"
     },
     "output_type": "display_data"
    }
   ],
   "source": [
    "slope, intercept, r, p, stderr = scipy.stats.linregress(x, y)\n",
    "line = f'Regression line: y={intercept:.2f}+{slope:.2f}x, r={r:.2f}'\n",
    "fig, ax = plt.subplots()\n",
    "ax.plot(x, y, linewidth=0, marker='o', label='Data points')\n",
    "ax.plot(x, intercept + slope * x, label=line)\n",
    "ax.set_xlabel('K1')\n",
    "ax.set_ylabel('K2')\n",
    "ax.legend(facecolor='white')\n",
    "plt.ylim(ymax = 3.5, ymin = 0)\n",
    "plt.title('Sa Cas9 regression')\n",
    "plt.savefig('regression_SaCas9.png')\n",
    "plt.show()"
   ]
  },
  {
   "cell_type": "markdown",
   "metadata": {},
   "source": [
    "## Corelation plots for hypa Cas9 dataset"
   ]
  },
  {
   "cell_type": "code",
   "execution_count": 26,
   "metadata": {},
   "outputs": [],
   "source": [
    "x = dfh['K1']\n",
    "y = dfh['K2']"
   ]
  },
  {
   "cell_type": "code",
   "execution_count": 27,
   "metadata": {},
   "outputs": [
    {
     "name": "stdout",
     "output_type": "stream",
     "text": [
      "(0.9707831221331557, 0.0)\n"
     ]
    }
   ],
   "source": [
    "print(scipy.stats.pearsonr(x, y))"
   ]
  },
  {
   "cell_type": "code",
   "execution_count": 28,
   "metadata": {},
   "outputs": [
    {
     "name": "stdout",
     "output_type": "stream",
     "text": [
      "SpearmanrResult(correlation=0.9873245182224624, pvalue=0.0)\n"
     ]
    }
   ],
   "source": [
    "print(scipy.stats.spearmanr(x, y))"
   ]
  },
  {
   "cell_type": "code",
   "execution_count": 29,
   "metadata": {},
   "outputs": [
    {
     "name": "stdout",
     "output_type": "stream",
     "text": [
      "KendalltauResult(correlation=0.9216686932142392, pvalue=0.0)\n"
     ]
    }
   ],
   "source": [
    "print(scipy.stats.kendalltau(x, y))"
   ]
  },
  {
   "cell_type": "code",
   "execution_count": 30,
   "metadata": {},
   "outputs": [
    {
     "name": "stdout",
     "output_type": "stream",
     "text": [
      "LinregressResult(slope=0.9117708240107306, intercept=-0.006342042511278068, rvalue=0.9707831221331557, pvalue=0.0, stderr=0.007285239349189512)\n"
     ]
    }
   ],
   "source": [
    "print(scipy.stats.linregress(x, y))"
   ]
  },
  {
   "cell_type": "code",
   "execution_count": 31,
   "metadata": {},
   "outputs": [
    {
     "data": {
      "image/png": "[encoded data removed]",
      "text/plain": [
       "<Figure size 432x288 with 1 Axes>"
      ]
     },
     "metadata": {
      "needs_background": "light"
     },
     "output_type": "display_data"
    }
   ],
   "source": [
    "slope, intercept, r, p, stderr = scipy.stats.linregress(x, y)\n",
    "line = f'Regression line: y={intercept:.2f}+{slope:.2f}x, r={r:.2f}'\n",
    "fig, ax = plt.subplots()\n",
    "ax.plot(x, y, linewidth=0, marker='o', label='Data points')\n",
    "ax.plot(x, intercept + slope * x, label=line)\n",
    "ax.set_xlabel('K1')\n",
    "ax.set_ylabel('K2')\n",
    "plt.ylim(ymax = 3.5, ymin = 0)\n",
    "ax.legend(facecolor='white')\n",
    "plt.title('hypa Cas9 regression')\n",
    "plt.savefig('regression_hypaCas9.png')\n",
    "plt.show()"
   ]
  },
  {
   "cell_type": "code",
   "execution_count": null,
   "metadata": {},
   "outputs": [],
   "source": [
    "sns.set(style=\"white\")"
   ]
  }
 ],
 "metadata": {
  "kernelspec": {
   "display_name": "Python 3",
   "language": "python",
   "name": "python3"
  },
  "language_info": {
   "codemirror_mode": {
    "name": "ipython",
    "version": 3
   },
   "file_extension": ".py",
   "mimetype": "text/x-python",
   "name": "python",
   "nbconvert_exporter": "python",
   "pygments_lexer": "ipython3",
   "version": "3.8.3"
  }
 },
 "nbformat": 4,
 "nbformat_minor": 4
}
